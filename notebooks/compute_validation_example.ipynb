{
 "cells": [
  {
   "cell_type": "code",
   "execution_count": 1,
   "id": "5d16af57-adc3-4678-9586-4ed5cca0b265",
   "metadata": {
    "scrolled": true
   },
   "outputs": [
    {
     "name": "stdout",
     "output_type": "stream",
     "text": [
      "Collecting raidionicsval@ git+https://github.com/dbouget/validation_metrics_computation.git@master#raidionicsval\n",
      "  Cloning https://github.com/dbouget/validation_metrics_computation.git (to revision master) to /home/dbouget/.tmp/pip-install-56q92s8n/raidionicsval_dd8a3dc84c0240ab909988719da3568a\n",
      "  Running command git clone --filter=blob:none --quiet https://github.com/dbouget/validation_metrics_computation.git /home/dbouget/.tmp/pip-install-56q92s8n/raidionicsval_dd8a3dc84c0240ab909988719da3568a\n",
      "  Resolved https://github.com/dbouget/validation_metrics_computation.git to commit 55a6223092140cda632b419609d0adb52e8498d5\n",
      "  Preparing metadata (setup.py) ... \u001b[?25ldone\n",
      "\u001b[?25hRequirement already satisfied: SimpleITK in /home/dbouget/Code/Private/validation_metrics_computation/venv/lib/python3.10/site-packages (from raidionicsval@ git+https://github.com/dbouget/validation_metrics_computation.git@master#raidionicsval) (2.3.1)\n",
      "Requirement already satisfied: arch in /home/dbouget/Code/Private/validation_metrics_computation/venv/lib/python3.10/site-packages (from raidionicsval@ git+https://github.com/dbouget/validation_metrics_computation.git@master#raidionicsval) (6.2.0)\n",
      "Requirement already satisfied: h5py in /home/dbouget/Code/Private/validation_metrics_computation/venv/lib/python3.10/site-packages (from raidionicsval@ git+https://github.com/dbouget/validation_metrics_computation.git@master#raidionicsval) (3.10.0)\n",
      "Requirement already satisfied: nibabel in /home/dbouget/Code/Private/validation_metrics_computation/venv/lib/python3.10/site-packages (from raidionicsval@ git+https://github.com/dbouget/validation_metrics_computation.git@master#raidionicsval) (5.1.0)\n",
      "Requirement already satisfied: pandas in /home/dbouget/Code/Private/validation_metrics_computation/venv/lib/python3.10/site-packages (from raidionicsval@ git+https://github.com/dbouget/validation_metrics_computation.git@master#raidionicsval) (2.1.3)\n",
      "Requirement already satisfied: scikit-image in /home/dbouget/Code/Private/validation_metrics_computation/venv/lib/python3.10/site-packages (from raidionicsval@ git+https://github.com/dbouget/validation_metrics_computation.git@master#raidionicsval) (0.22.0)\n",
      "Requirement already satisfied: scikit-learn in /home/dbouget/Code/Private/validation_metrics_computation/venv/lib/python3.10/site-packages (from raidionicsval@ git+https://github.com/dbouget/validation_metrics_computation.git@master#raidionicsval) (1.3.2)\n",
      "Requirement already satisfied: seaborn in /home/dbouget/Code/Private/validation_metrics_computation/venv/lib/python3.10/site-packages (from raidionicsval@ git+https://github.com/dbouget/validation_metrics_computation.git@master#raidionicsval) (0.13.0)\n",
      "Requirement already satisfied: statsmodels in /home/dbouget/Code/Private/validation_metrics_computation/venv/lib/python3.10/site-packages (from raidionicsval@ git+https://github.com/dbouget/validation_metrics_computation.git@master#raidionicsval) (0.14.0)\n",
      "Requirement already satisfied: tqdm in /home/dbouget/Code/Private/validation_metrics_computation/venv/lib/python3.10/site-packages (from raidionicsval@ git+https://github.com/dbouget/validation_metrics_computation.git@master#raidionicsval) (4.66.1)\n",
      "Requirement already satisfied: scipy>=1.5 in /home/dbouget/Code/Private/validation_metrics_computation/venv/lib/python3.10/site-packages (from arch->raidionicsval@ git+https://github.com/dbouget/validation_metrics_computation.git@master#raidionicsval) (1.11.4)\n",
      "Requirement already satisfied: numpy>=1.19 in /home/dbouget/Code/Private/validation_metrics_computation/venv/lib/python3.10/site-packages (from arch->raidionicsval@ git+https://github.com/dbouget/validation_metrics_computation.git@master#raidionicsval) (1.26.2)\n",
      "Requirement already satisfied: python-dateutil>=2.8.2 in /home/dbouget/Code/Private/validation_metrics_computation/venv/lib/python3.10/site-packages (from pandas->raidionicsval@ git+https://github.com/dbouget/validation_metrics_computation.git@master#raidionicsval) (2.8.2)\n",
      "Requirement already satisfied: tzdata>=2022.1 in /home/dbouget/Code/Private/validation_metrics_computation/venv/lib/python3.10/site-packages (from pandas->raidionicsval@ git+https://github.com/dbouget/validation_metrics_computation.git@master#raidionicsval) (2023.3)\n",
      "Requirement already satisfied: pytz>=2020.1 in /home/dbouget/Code/Private/validation_metrics_computation/venv/lib/python3.10/site-packages (from pandas->raidionicsval@ git+https://github.com/dbouget/validation_metrics_computation.git@master#raidionicsval) (2023.3.post1)\n",
      "Requirement already satisfied: packaging>=21.3 in /home/dbouget/Code/Private/validation_metrics_computation/venv/lib/python3.10/site-packages (from statsmodels->raidionicsval@ git+https://github.com/dbouget/validation_metrics_computation.git@master#raidionicsval) (23.2)\n",
      "Requirement already satisfied: patsy>=0.5.2 in /home/dbouget/Code/Private/validation_metrics_computation/venv/lib/python3.10/site-packages (from statsmodels->raidionicsval@ git+https://github.com/dbouget/validation_metrics_computation.git@master#raidionicsval) (0.5.4)\n",
      "Requirement already satisfied: pillow>=9.0.1 in /home/dbouget/Code/Private/validation_metrics_computation/venv/lib/python3.10/site-packages (from scikit-image->raidionicsval@ git+https://github.com/dbouget/validation_metrics_computation.git@master#raidionicsval) (10.1.0)\n",
      "Requirement already satisfied: tifffile>=2022.8.12 in /home/dbouget/Code/Private/validation_metrics_computation/venv/lib/python3.10/site-packages (from scikit-image->raidionicsval@ git+https://github.com/dbouget/validation_metrics_computation.git@master#raidionicsval) (2023.9.26)\n",
      "Requirement already satisfied: imageio>=2.27 in /home/dbouget/Code/Private/validation_metrics_computation/venv/lib/python3.10/site-packages (from scikit-image->raidionicsval@ git+https://github.com/dbouget/validation_metrics_computation.git@master#raidionicsval) (2.33.0)\n",
      "Requirement already satisfied: lazy_loader>=0.3 in /home/dbouget/Code/Private/validation_metrics_computation/venv/lib/python3.10/site-packages (from scikit-image->raidionicsval@ git+https://github.com/dbouget/validation_metrics_computation.git@master#raidionicsval) (0.3)\n",
      "Requirement already satisfied: networkx>=2.8 in /home/dbouget/Code/Private/validation_metrics_computation/venv/lib/python3.10/site-packages (from scikit-image->raidionicsval@ git+https://github.com/dbouget/validation_metrics_computation.git@master#raidionicsval) (3.2.1)\n",
      "Requirement already satisfied: joblib>=1.1.1 in /home/dbouget/Code/Private/validation_metrics_computation/venv/lib/python3.10/site-packages (from scikit-learn->raidionicsval@ git+https://github.com/dbouget/validation_metrics_computation.git@master#raidionicsval) (1.3.2)\n",
      "Requirement already satisfied: threadpoolctl>=2.0.0 in /home/dbouget/Code/Private/validation_metrics_computation/venv/lib/python3.10/site-packages (from scikit-learn->raidionicsval@ git+https://github.com/dbouget/validation_metrics_computation.git@master#raidionicsval) (3.2.0)\n",
      "Requirement already satisfied: matplotlib!=3.6.1,>=3.3 in /home/dbouget/Code/Private/validation_metrics_computation/venv/lib/python3.10/site-packages (from seaborn->raidionicsval@ git+https://github.com/dbouget/validation_metrics_computation.git@master#raidionicsval) (3.8.2)\n",
      "Requirement already satisfied: contourpy>=1.0.1 in /home/dbouget/Code/Private/validation_metrics_computation/venv/lib/python3.10/site-packages (from matplotlib!=3.6.1,>=3.3->seaborn->raidionicsval@ git+https://github.com/dbouget/validation_metrics_computation.git@master#raidionicsval) (1.2.0)\n",
      "Requirement already satisfied: cycler>=0.10 in /home/dbouget/Code/Private/validation_metrics_computation/venv/lib/python3.10/site-packages (from matplotlib!=3.6.1,>=3.3->seaborn->raidionicsval@ git+https://github.com/dbouget/validation_metrics_computation.git@master#raidionicsval) (0.12.1)\n",
      "Requirement already satisfied: pyparsing>=2.3.1 in /home/dbouget/Code/Private/validation_metrics_computation/venv/lib/python3.10/site-packages (from matplotlib!=3.6.1,>=3.3->seaborn->raidionicsval@ git+https://github.com/dbouget/validation_metrics_computation.git@master#raidionicsval) (3.1.1)\n",
      "Requirement already satisfied: fonttools>=4.22.0 in /home/dbouget/Code/Private/validation_metrics_computation/venv/lib/python3.10/site-packages (from matplotlib!=3.6.1,>=3.3->seaborn->raidionicsval@ git+https://github.com/dbouget/validation_metrics_computation.git@master#raidionicsval) (4.45.1)\n",
      "Requirement already satisfied: kiwisolver>=1.3.1 in /home/dbouget/Code/Private/validation_metrics_computation/venv/lib/python3.10/site-packages (from matplotlib!=3.6.1,>=3.3->seaborn->raidionicsval@ git+https://github.com/dbouget/validation_metrics_computation.git@master#raidionicsval) (1.4.5)\n",
      "Requirement already satisfied: six in /home/dbouget/Code/Private/validation_metrics_computation/venv/lib/python3.10/site-packages (from patsy>=0.5.2->statsmodels->raidionicsval@ git+https://github.com/dbouget/validation_metrics_computation.git@master#raidionicsval) (1.16.0)\n",
      "Note: you may need to restart the kernel to use updated packages.\n"
     ]
    }
   ],
   "source": [
    "pip install raidionicsval@git+https://github.com/dbouget/validation_metrics_computation.git@master#raidionicsval"
   ]
  },
  {
   "cell_type": "code",
   "execution_count": 2,
   "id": "9a21b5f3-ce0f-415f-8b01-bd266453f918",
   "metadata": {},
   "outputs": [
    {
     "name": "stdout",
     "output_type": "stream",
     "text": [
      "Test directory: /home/dbouget/Code/Private/validation_metrics_computation/notebooks/unit_tests_results_dir\n",
      "Raw dataset located in: /home/dbouget/Code/Private/validation_metrics_computation/notebooks/unit_tests_results_dir/Input_dataset\n",
      "Model predictions located in: /home/dbouget/Code/Private/validation_metrics_computation/notebooks/unit_tests_results_dir/StudyResults\n"
     ]
    }
   ],
   "source": [
    "# Download the test data\n",
    "import os\n",
    "import requests\n",
    "import zipfile\n",
    "resources_url = 'https://github.com/raidionics/Raidionics-models/releases/download/1.2.0/Samples-RaidionicsValLib_UnitTest1.zip'\n",
    "test_dir = os.path.join(os.getcwd(), 'unit_tests_results_dir')\n",
    "os.makedirs(test_dir, exist_ok=True)\n",
    "print(\"Test directory: {}\".format(test_dir))\n",
    "archive_dl_dest = os.path.join(test_dir, 'resources.zip')\n",
    "if not os.path.exists(archive_dl_dest):\n",
    "    headers = {}\n",
    "    response = requests.get(resources_url, headers=headers, stream=True)\n",
    "    response.raise_for_status()\n",
    "    if response.status_code == requests.codes.ok:\n",
    "        with open(archive_dl_dest, \"wb\") as f:\n",
    "            for chunk in response.iter_content(chunk_size=1048576):\n",
    "                f.write(chunk)\n",
    "            \n",
    "with zipfile.ZipFile(archive_dl_dest, 'r') as zip_ref:\n",
    "    zip_ref.extractall(test_dir)\n",
    "\n",
    "print(\"Raw dataset located in: {}\".format(os.path.join(test_dir, \"Input_dataset\")))\n",
    "print(\"Model predictions located in: {}\".format(os.path.join(test_dir, \"StudyResults\")))"
   ]
  },
  {
   "cell_type": "code",
   "execution_count": 3,
   "id": "a03eee0c-ff52-4348-b40f-90e08c529acb",
   "metadata": {},
   "outputs": [
    {
     "name": "stdout",
     "output_type": "stream",
     "text": [
      "Running 1-fold cross-validation unit test.\n",
      "Detection overlap:  [0.0]\n",
      "\n",
      "Processing fold 1/1.\n",
      "\n"
     ]
    },
    {
     "name": "stderr",
     "output_type": "stream",
     "text": [
      "100%|███████████████████████████████████████████████████████████████████████████████████████████████████████████████████████████████████████████████████████████████████████████████████████████| 10/10 [06:07<00:00, 36.78s/it]\n"
     ]
    },
    {
     "name": "stdout",
     "output_type": "stream",
     "text": [
      "Class 'tumor' - Selected values (Overlap: 0.0, Threshold: 0.7) for global metric of 0.9125586642267945. True positive case: False\n",
      "Class 'tumor' - Selected values (Overlap: 0.0, Threshold: 0.7) for global metric of 0.9125586642267945. True positive case: True\n",
      "Computing extra metrics for all patients.\n",
      "\n"
     ]
    },
    {
     "name": "stderr",
     "output_type": "stream",
     "text": [
      "100%|███████████████████████████████████████████████████████████████████████████████████████████████████████████████████████████████████████████████████████████████████████████████████████████| 10/10 [03:25<00:00, 20.54s/it]\n"
     ]
    }
   ],
   "source": [
    "import configparser\n",
    "\n",
    "val_config = configparser.ConfigParser()\n",
    "val_config.add_section('Default')\n",
    "val_config.set('Default', 'task', 'validation')\n",
    "val_config.set('Default', 'data_root', os.path.join(test_dir, 'Input_dataset'))\n",
    "val_config.set('Default', 'number_processes', \"1\")\n",
    "val_config.add_section('Validation')\n",
    "val_config.set('Validation', 'input_folder', os.path.join(test_dir, 'StudyResults'))\n",
    "val_config.set('Validation', 'output_folder', os.path.join(test_dir, 'StudyResults'))\n",
    "val_config.set('Validation', 'gt_files_suffix', 'label_tumor.nii.gz')\n",
    "val_config.set('Validation', 'prediction_files_suffix', 'pred_tumor.nii.gz')\n",
    "val_config.set('Validation', 'use_index_naming_convention', 'false')\n",
    "val_config.set('Validation', 'nb_folds', '1')\n",
    "val_config.set('Validation', 'split_way', 'three-way')\n",
    "val_config.set('Validation', 'detection_overlap_thresholds', '0.')\n",
    "val_config.set('Validation', 'metrics_space', 'pixelwise, objectwise')\n",
    "val_config.set('Validation', 'class_names', 'tumor')\n",
    "val_config.set('Validation', 'extra_metrics', 'TPR, TNR, FPR, FNR, PPV, Jaccard, IOU, AUC, VS, VC')\n",
    "val_config.set('Validation', 'tiny_objects_removal_threshold', '25')\n",
    "val_config.set('Validation', 'true_positive_volume_thresholds', '0.1')\n",
    "val_config.set('Validation', 'use_brats_data', 'false')\n",
    "config_filename = os.path.join(test_dir, 'config.ini')\n",
    "with open(config_filename, 'w') as outfile:\n",
    "    val_config.write(outfile)\n",
    "\n",
    "print(\"Running 1-fold cross-validation unit test.\")\n",
    "from raidionicsval.compute import compute\n",
    "compute(config_filename)"
   ]
  },
  {
   "cell_type": "code",
   "execution_count": 4,
   "id": "5e91d436-c8d2-47e4-9bcb-7f13a01913db",
   "metadata": {},
   "outputs": [
    {
     "name": "stdout",
     "output_type": "stream",
     "text": [
      "Best probability threshold: 0.7\n",
      "    Fold     Patient  Threshold  PiW Dice  PiW Recall  PiW Precision  \\\n",
      "6      0  Patient001        0.7  0.828347    0.762817       0.906195   \n",
      "16     0  Patient002        0.7  0.946556    0.919496       0.975256   \n",
      "26     0  Patient003        0.7  0.941316    0.960817       0.922590   \n",
      "36     0  Patient004        0.7  0.904787    0.942430       0.870034   \n",
      "46     0  Patient005        0.7  0.930130    0.916328       0.944354   \n",
      "56     0  Patient006        0.7  0.931996    0.932208       0.931783   \n",
      "66     0  Patient007        0.7  0.915319    0.880296       0.953244   \n",
      "76     0  Patient008        0.7  0.931472    0.905806       0.958635   \n",
      "86     0  Patient009        0.7  0.958855    0.956526       0.961195   \n",
      "96     0  Patient010        0.7  0.836810    0.951776       0.746625   \n",
      "\n",
      "      PiW F1  GT volume (ml)  True Positive  Detection volume (ml)  ...  \\\n",
      "6   0.828347          5.1951           True                 4.3732  ...   \n",
      "16  0.946556        112.9402           True               106.4828  ...   \n",
      "26  0.941316         21.7465           True                22.6476  ...   \n",
      "36  0.904787          5.1935           True                 5.6257  ...   \n",
      "46  0.930130         15.7995           True                15.3306  ...   \n",
      "56  0.931996         68.0174           True                68.0484  ...   \n",
      "66  0.915319        108.1583           True                99.8814  ...   \n",
      "76  0.931472        104.6939           True                98.9243  ...   \n",
      "86  0.958855         48.7404           True                48.5037  ...   \n",
      "96  0.836810          7.9456           True                10.1289  ...   \n",
      "\n",
      "         TPR       TNR       FPR       FNR       PPV   Jaccard       IOU  \\\n",
      "6   0.762817  0.999954  0.000046  0.237183  0.906195  0.706991  0.706991   \n",
      "16  0.919496  0.999700  0.000300  0.080504  0.975256  0.898534  0.898534   \n",
      "26  0.960817  0.999802  0.000198  0.039183  0.922590  0.889137  0.889137   \n",
      "36  0.942430  0.999918  0.000082  0.057570  0.870034  0.826128  0.826128   \n",
      "46  0.916328  0.999904  0.000096  0.083672  0.944354  0.869385  0.869385   \n",
      "56  0.932208  0.999493  0.000507  0.067792  0.931783  0.872652  0.872652   \n",
      "66  0.880296  0.999468  0.000532  0.119704  0.953244  0.843859  0.843859   \n",
      "76  0.905806  0.999534  0.000466  0.094194  0.958635  0.871735  0.871735   \n",
      "86  0.956526  0.999787  0.000213  0.043474  0.961195  0.920961  0.920961   \n",
      "96  0.951776  0.999724  0.000276  0.048224  0.746625  0.719410  0.719410   \n",
      "\n",
      "         AUC        VS        VC  \n",
      "6   0.881385  0.914094  0.975683  \n",
      "16  0.959598  0.970571  0.998910  \n",
      "26  0.980310  0.979703  0.999393  \n",
      "36  0.971174  0.960057  0.997286  \n",
      "46  0.958116  0.984938  0.998662  \n",
      "56  0.965850  0.999772  0.996909  \n",
      "66  0.939882  0.960215  0.998954  \n",
      "76  0.952670  0.971665  0.993118  \n",
      "86  0.978156  0.997565  0.998612  \n",
      "96  0.975750  0.879210  0.979356  \n",
      "\n",
      "[10 rows x 27 columns]\n"
     ]
    }
   ],
   "source": [
    "# Inspecting the results for the tumor class\n",
    "import pandas as pd\n",
    "import numpy as np\n",
    "\n",
    "# Importing the file containing all computed metrics during the validation\n",
    "all_metrics_file = os.path.join(test_dir, 'StudyResults', 'Validation', 'tumor_dice_scores.csv')\n",
    "all_metrics_df = pd.read_csv(all_metrics_file)\n",
    "\n",
    "# Importing the file containing the results of the analysis determining the best probability threshold\n",
    "study_file = os.path.join(test_dir, 'StudyResults', 'Validation', 'tumor_optimal_dice_study.csv')\n",
    "optimal_study_df = pd.read_csv(study_file)\n",
    "optimums = optimal_study_df.iloc[-1]\n",
    "optimal_threshold = optimums['Dice threshold']\n",
    "print(\"Best probability threshold: {}\".format(optimal_threshold))\n",
    "\n",
    "# Retrieving the metrics for all patients, under the optimal probability cut-off value\n",
    "nb_thresholds = len(np.unique(all_metrics_df['Threshold'].values))\n",
    "total_thresholds = [np.round(x, 2) for x in list(np.unique(all_metrics_df['Threshold'].values))]\n",
    "optimal_thresold_index = total_thresholds.index(optimal_threshold)\n",
    "optimal_results_per_patient = all_metrics_df[optimal_thresold_index::nb_thresholds]\n",
    "print(optimal_results_per_patient)"
   ]
  },
  {
   "cell_type": "code",
   "execution_count": null,
   "id": "bc543538-d280-48fa-9f9d-5113572ce8ec",
   "metadata": {},
   "outputs": [],
   "source": []
  }
 ],
 "metadata": {
  "kernelspec": {
   "display_name": "Python 3 (ipykernel)",
   "language": "python",
   "name": "python3"
  },
  "language_info": {
   "codemirror_mode": {
    "name": "ipython",
    "version": 3
   },
   "file_extension": ".py",
   "mimetype": "text/x-python",
   "name": "python",
   "nbconvert_exporter": "python",
   "pygments_lexer": "ipython3",
   "version": "3.10.12"
  }
 },
 "nbformat": 4,
 "nbformat_minor": 5
}
