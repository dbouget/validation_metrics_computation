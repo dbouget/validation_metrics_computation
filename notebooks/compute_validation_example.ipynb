{
 "cells": [
  {
   "cell_type": "code",
   "execution_count": 1,
   "id": "5d16af57-adc3-4678-9586-4ed5cca0b265",
   "metadata": {
    "scrolled": true
   },
   "outputs": [
    {
     "name": "stdout",
     "output_type": "stream",
     "text": [
      "Collecting raidionicsval@ git+https://github.com/dbouget/validation_metrics_computation.git@master#raidionicsval\n",
      "  Cloning https://github.com/dbouget/validation_metrics_computation.git (to revision master) to /home/tmp/pip-install-ufqhjyr8/raidionicsval_0bfba68b49f543e792ad671549c9709c\n",
      "  Running command git clone --filter=blob:none --quiet https://github.com/dbouget/validation_metrics_computation.git /home/tmp/pip-install-ufqhjyr8/raidionicsval_0bfba68b49f543e792ad671549c9709c\n",
      "  Resolved https://github.com/dbouget/validation_metrics_computation.git to commit 0ee14884dbdcc7b38b3f94ce02848fbf1241fc44\n",
      "  Installing build dependencies ... \u001b[?25ldone\n",
      "\u001b[?25h  Getting requirements to build wheel ... \u001b[?25ldone\n",
      "\u001b[?25h  Preparing metadata (pyproject.toml) ... \u001b[?25ldone\n",
      "\u001b[?25hRequirement already satisfied: seaborn in /home/dbouget/Code/Private/validation_metrics_computation/venv-test/lib/python3.10/site-packages (from raidionicsval@ git+https://github.com/dbouget/validation_metrics_computation.git@master#raidionicsval) (0.13.2)\n",
      "Requirement already satisfied: nibabel in /home/dbouget/Code/Private/validation_metrics_computation/venv-test/lib/python3.10/site-packages (from raidionicsval@ git+https://github.com/dbouget/validation_metrics_computation.git@master#raidionicsval) (5.3.2)\n",
      "Requirement already satisfied: h5py in /home/dbouget/Code/Private/validation_metrics_computation/venv-test/lib/python3.10/site-packages (from raidionicsval@ git+https://github.com/dbouget/validation_metrics_computation.git@master#raidionicsval) (3.13.0)\n",
      "Requirement already satisfied: SimpleITK<=2.4.1 in /home/dbouget/Code/Private/validation_metrics_computation/venv-test/lib/python3.10/site-packages (from raidionicsval@ git+https://github.com/dbouget/validation_metrics_computation.git@master#raidionicsval) (2.4.1)\n",
      "Requirement already satisfied: scikit-learn in /home/dbouget/Code/Private/validation_metrics_computation/venv-test/lib/python3.10/site-packages (from raidionicsval@ git+https://github.com/dbouget/validation_metrics_computation.git@master#raidionicsval) (1.6.1)\n",
      "Requirement already satisfied: Jinja2 in /home/dbouget/Code/Private/validation_metrics_computation/venv-test/lib/python3.10/site-packages (from raidionicsval@ git+https://github.com/dbouget/validation_metrics_computation.git@master#raidionicsval) (3.1.6)\n",
      "Requirement already satisfied: scikit-image in /home/dbouget/Code/Private/validation_metrics_computation/venv-test/lib/python3.10/site-packages (from raidionicsval@ git+https://github.com/dbouget/validation_metrics_computation.git@master#raidionicsval) (0.25.2)\n",
      "Requirement already satisfied: pandas in /home/dbouget/Code/Private/validation_metrics_computation/venv-test/lib/python3.10/site-packages (from raidionicsval@ git+https://github.com/dbouget/validation_metrics_computation.git@master#raidionicsval) (2.2.3)\n",
      "Requirement already satisfied: statsmodels in /home/dbouget/Code/Private/validation_metrics_computation/venv-test/lib/python3.10/site-packages (from raidionicsval@ git+https://github.com/dbouget/validation_metrics_computation.git@master#raidionicsval) (0.14.4)\n",
      "Requirement already satisfied: tqdm in /home/dbouget/Code/Private/validation_metrics_computation/venv-test/lib/python3.10/site-packages (from raidionicsval@ git+https://github.com/dbouget/validation_metrics_computation.git@master#raidionicsval) (4.67.1)\n",
      "Requirement already satisfied: arch in /home/dbouget/Code/Private/validation_metrics_computation/venv-test/lib/python3.10/site-packages (from raidionicsval@ git+https://github.com/dbouget/validation_metrics_computation.git@master#raidionicsval) (7.2.0)\n",
      "Requirement already satisfied: scipy>=1.8 in /home/dbouget/Code/Private/validation_metrics_computation/venv-test/lib/python3.10/site-packages (from arch->raidionicsval@ git+https://github.com/dbouget/validation_metrics_computation.git@master#raidionicsval) (1.15.3)\n",
      "Requirement already satisfied: numpy>=1.22.3 in /home/dbouget/Code/Private/validation_metrics_computation/venv-test/lib/python3.10/site-packages (from arch->raidionicsval@ git+https://github.com/dbouget/validation_metrics_computation.git@master#raidionicsval) (2.2.5)\n",
      "Requirement already satisfied: python-dateutil>=2.8.2 in /home/dbouget/Code/Private/validation_metrics_computation/venv-test/lib/python3.10/site-packages (from pandas->raidionicsval@ git+https://github.com/dbouget/validation_metrics_computation.git@master#raidionicsval) (2.9.0.post0)\n",
      "Requirement already satisfied: tzdata>=2022.7 in /home/dbouget/Code/Private/validation_metrics_computation/venv-test/lib/python3.10/site-packages (from pandas->raidionicsval@ git+https://github.com/dbouget/validation_metrics_computation.git@master#raidionicsval) (2025.2)\n",
      "Requirement already satisfied: pytz>=2020.1 in /home/dbouget/Code/Private/validation_metrics_computation/venv-test/lib/python3.10/site-packages (from pandas->raidionicsval@ git+https://github.com/dbouget/validation_metrics_computation.git@master#raidionicsval) (2025.2)\n",
      "Requirement already satisfied: packaging>=21.3 in /home/dbouget/Code/Private/validation_metrics_computation/venv-test/lib/python3.10/site-packages (from statsmodels->raidionicsval@ git+https://github.com/dbouget/validation_metrics_computation.git@master#raidionicsval) (25.0)\n",
      "Requirement already satisfied: patsy>=0.5.6 in /home/dbouget/Code/Private/validation_metrics_computation/venv-test/lib/python3.10/site-packages (from statsmodels->raidionicsval@ git+https://github.com/dbouget/validation_metrics_computation.git@master#raidionicsval) (1.0.1)\n",
      "Requirement already satisfied: MarkupSafe>=2.0 in /home/dbouget/Code/Private/validation_metrics_computation/venv-test/lib/python3.10/site-packages (from Jinja2->raidionicsval@ git+https://github.com/dbouget/validation_metrics_computation.git@master#raidionicsval) (3.0.2)\n",
      "Requirement already satisfied: importlib-resources>=5.12 in /home/dbouget/Code/Private/validation_metrics_computation/venv-test/lib/python3.10/site-packages (from nibabel->raidionicsval@ git+https://github.com/dbouget/validation_metrics_computation.git@master#raidionicsval) (6.5.2)\n",
      "Requirement already satisfied: typing-extensions>=4.6 in /home/dbouget/Code/Private/validation_metrics_computation/venv-test/lib/python3.10/site-packages (from nibabel->raidionicsval@ git+https://github.com/dbouget/validation_metrics_computation.git@master#raidionicsval) (4.13.2)\n",
      "Requirement already satisfied: tifffile>=2022.8.12 in /home/dbouget/Code/Private/validation_metrics_computation/venv-test/lib/python3.10/site-packages (from scikit-image->raidionicsval@ git+https://github.com/dbouget/validation_metrics_computation.git@master#raidionicsval) (2025.5.10)\n",
      "Requirement already satisfied: imageio!=2.35.0,>=2.33 in /home/dbouget/Code/Private/validation_metrics_computation/venv-test/lib/python3.10/site-packages (from scikit-image->raidionicsval@ git+https://github.com/dbouget/validation_metrics_computation.git@master#raidionicsval) (2.37.0)\n",
      "Requirement already satisfied: networkx>=3.0 in /home/dbouget/Code/Private/validation_metrics_computation/venv-test/lib/python3.10/site-packages (from scikit-image->raidionicsval@ git+https://github.com/dbouget/validation_metrics_computation.git@master#raidionicsval) (3.4.2)\n",
      "Requirement already satisfied: lazy-loader>=0.4 in /home/dbouget/Code/Private/validation_metrics_computation/venv-test/lib/python3.10/site-packages (from scikit-image->raidionicsval@ git+https://github.com/dbouget/validation_metrics_computation.git@master#raidionicsval) (0.4)\n",
      "Requirement already satisfied: pillow>=10.1 in /home/dbouget/Code/Private/validation_metrics_computation/venv-test/lib/python3.10/site-packages (from scikit-image->raidionicsval@ git+https://github.com/dbouget/validation_metrics_computation.git@master#raidionicsval) (11.2.1)\n",
      "Requirement already satisfied: threadpoolctl>=3.1.0 in /home/dbouget/Code/Private/validation_metrics_computation/venv-test/lib/python3.10/site-packages (from scikit-learn->raidionicsval@ git+https://github.com/dbouget/validation_metrics_computation.git@master#raidionicsval) (3.6.0)\n",
      "Requirement already satisfied: joblib>=1.2.0 in /home/dbouget/Code/Private/validation_metrics_computation/venv-test/lib/python3.10/site-packages (from scikit-learn->raidionicsval@ git+https://github.com/dbouget/validation_metrics_computation.git@master#raidionicsval) (1.5.0)\n",
      "Requirement already satisfied: matplotlib!=3.6.1,>=3.4 in /home/dbouget/Code/Private/validation_metrics_computation/venv-test/lib/python3.10/site-packages (from seaborn->raidionicsval@ git+https://github.com/dbouget/validation_metrics_computation.git@master#raidionicsval) (3.10.3)\n",
      "Requirement already satisfied: contourpy>=1.0.1 in /home/dbouget/Code/Private/validation_metrics_computation/venv-test/lib/python3.10/site-packages (from matplotlib!=3.6.1,>=3.4->seaborn->raidionicsval@ git+https://github.com/dbouget/validation_metrics_computation.git@master#raidionicsval) (1.3.2)\n",
      "Requirement already satisfied: kiwisolver>=1.3.1 in /home/dbouget/Code/Private/validation_metrics_computation/venv-test/lib/python3.10/site-packages (from matplotlib!=3.6.1,>=3.4->seaborn->raidionicsval@ git+https://github.com/dbouget/validation_metrics_computation.git@master#raidionicsval) (1.4.8)\n",
      "Requirement already satisfied: fonttools>=4.22.0 in /home/dbouget/Code/Private/validation_metrics_computation/venv-test/lib/python3.10/site-packages (from matplotlib!=3.6.1,>=3.4->seaborn->raidionicsval@ git+https://github.com/dbouget/validation_metrics_computation.git@master#raidionicsval) (4.58.0)\n",
      "Requirement already satisfied: cycler>=0.10 in /home/dbouget/Code/Private/validation_metrics_computation/venv-test/lib/python3.10/site-packages (from matplotlib!=3.6.1,>=3.4->seaborn->raidionicsval@ git+https://github.com/dbouget/validation_metrics_computation.git@master#raidionicsval) (0.12.1)\n",
      "Requirement already satisfied: pyparsing>=2.3.1 in /home/dbouget/Code/Private/validation_metrics_computation/venv-test/lib/python3.10/site-packages (from matplotlib!=3.6.1,>=3.4->seaborn->raidionicsval@ git+https://github.com/dbouget/validation_metrics_computation.git@master#raidionicsval) (3.2.3)\n",
      "Requirement already satisfied: six>=1.5 in /home/dbouget/Code/Private/validation_metrics_computation/venv-test/lib/python3.10/site-packages (from python-dateutil>=2.8.2->pandas->raidionicsval@ git+https://github.com/dbouget/validation_metrics_computation.git@master#raidionicsval) (1.17.0)\n",
      "Building wheels for collected packages: raidionicsval\n",
      "  Building wheel for raidionicsval (pyproject.toml) ... \u001b[?25ldone\n",
      "\u001b[?25h  Created wheel for raidionicsval: filename=raidionicsval-1.1.0-py3-none-any.whl size=65496 sha256=fccab1df0d63bed0ffc3984974dee5e99745470a54a72a9ca8ef2388e47996e1\n",
      "  Stored in directory: /home/tmp/pip-ephem-wheel-cache-b0iwoxij/wheels/7c/7c/ff/b4da4747d9af0e86b6da0cc37ab0d59d856ef8bcfd8c8834dc\n",
      "Successfully built raidionicsval\n",
      "Installing collected packages: raidionicsval\n",
      "  Attempting uninstall: raidionicsval\n",
      "    Found existing installation: raidionicsval 1.1.0\n",
      "    Uninstalling raidionicsval-1.1.0:\n",
      "      Successfully uninstalled raidionicsval-1.1.0\n",
      "Successfully installed raidionicsval-1.1.0\n",
      "Note: you may need to restart the kernel to use updated packages.\n"
     ]
    }
   ],
   "source": [
    "pip install raidionicsval@git+https://github.com/dbouget/validation_metrics_computation.git@master#raidionicsval"
   ]
  },
  {
   "cell_type": "code",
   "execution_count": 2,
   "id": "9a21b5f3-ce0f-415f-8b01-bd266453f918",
   "metadata": {},
   "outputs": [
    {
     "name": "stdout",
     "output_type": "stream",
     "text": [
      "Test directory: /home/dbouget/Code/Private/validation_metrics_computation/notebooks/unit_tests_results_dir\n",
      "Raw dataset located in: /home/dbouget/Code/Private/validation_metrics_computation/notebooks/unit_tests_results_dir/Test1/Inputs\n",
      "Model predictions located in: /home/dbouget/Code/Private/validation_metrics_computation/notebooks/unit_tests_results_dir/Test1/Predictions\n"
     ]
    }
   ],
   "source": [
    "# Download the test data\n",
    "import os\n",
    "import requests\n",
    "import zipfile\n",
    "resources_url = 'https://github.com/raidionics/Raidionics-models/releases/download/v1.3.0-rc/Samples-RaidionicsValLib_UnitTest1-v1.1.zip'\n",
    "test_dir = os.path.join(os.getcwd(), 'unit_tests_results_dir')\n",
    "os.makedirs(test_dir, exist_ok=True)\n",
    "print(\"Test directory: {}\".format(test_dir))\n",
    "archive_dl_dest = os.path.join(test_dir, 'resources.zip')\n",
    "if not os.path.exists(archive_dl_dest):\n",
    "    headers = {}\n",
    "    response = requests.get(resources_url, headers=headers, stream=True)\n",
    "    response.raise_for_status()\n",
    "    if response.status_code == requests.codes.ok:\n",
    "        with open(archive_dl_dest, \"wb\") as f:\n",
    "            for chunk in response.iter_content(chunk_size=1048576):\n",
    "                f.write(chunk)\n",
    "            \n",
    "with zipfile.ZipFile(archive_dl_dest, 'r') as zip_ref:\n",
    "    zip_ref.extractall(test_dir)\n",
    "\n",
    "print(\"Raw dataset located in: {}\".format(os.path.join(test_dir, \"Test1\", \"Inputs\")))\n",
    "print(\"Model predictions located in: {}\".format(os.path.join(test_dir, \"Test1\", \"Predictions\")))"
   ]
  },
  {
   "cell_type": "code",
   "execution_count": 3,
   "id": "a03eee0c-ff52-4348-b40f-90e08c529acb",
   "metadata": {},
   "outputs": [
    {
     "name": "stdout",
     "output_type": "stream",
     "text": [
      "Running 1-fold cross-validation unit test.\n"
     ]
    },
    {
     "name": "stderr",
     "output_type": "stream",
     "text": [
      "100%|██████████████████████████████████████████████████████████████████████████████████████████████████████████████████████████████████████████████████████████████████████████████| 10/10 [06:20<00:00, 38.05s/it]\n"
     ]
    }
   ],
   "source": [
    "import configparser\n",
    "\n",
    "output_folder = os.path.join(test_dir, 'Test1', 'Results')\n",
    "if os.path.exists(output_folder):\n",
    "    shutil.rmtree(output_folder)\n",
    "os.makedirs(output_folder)\n",
    "\n",
    "val_config = configparser.ConfigParser()\n",
    "val_config.add_section('Default')\n",
    "val_config.set('Default', 'task', 'validation')\n",
    "val_config.set('Default', 'data_root', os.path.join(test_dir, \"Test1\", 'Inputs'))\n",
    "val_config.set('Default', 'number_processes', \"1\")\n",
    "val_config.add_section('Validation')\n",
    "val_config.set('Validation', 'input_folder', os.path.join(test_dir, \"Test1\", \"Predictions\"))\n",
    "val_config.set('Validation', 'output_folder', os.path.join(test_dir, output_folder))\n",
    "val_config.set('Validation', 'gt_files_suffix', 'label_tumor.nii.gz')\n",
    "val_config.set('Validation', 'prediction_files_suffix', 'pred_tumor.nii.gz')\n",
    "val_config.set('Validation', 'use_index_naming_convention', 'false')\n",
    "val_config.set('Validation', 'nb_folds', '1')\n",
    "val_config.set('Validation', 'split_way', 'three-way')\n",
    "val_config.set('Validation', 'detection_overlap_thresholds', '0.')\n",
    "val_config.set('Validation', 'metrics_space', 'pixelwise, patientwise, objectwise')\n",
    "val_config.set('Validation', 'class_names', 'tumor')\n",
    "val_config.set('Validation', 'extra_metrics', '')\n",
    "val_config.set('Validation', 'tiny_objects_removal_threshold', '25')\n",
    "val_config.set('Validation', 'true_positive_volume_thresholds', '0.1')\n",
    "val_config.set('Validation', 'use_brats_data', 'false')\n",
    "config_filename = os.path.join(test_dir, 'config.ini')\n",
    "with open(config_filename, 'w') as outfile:\n",
    "    val_config.write(outfile)\n",
    "\n",
    "print(\"Running 1-fold cross-validation unit test.\")\n",
    "from raidionicsval.compute import compute\n",
    "compute(config_filename)"
   ]
  },
  {
   "cell_type": "code",
   "execution_count": 4,
   "id": "5e91d436-c8d2-47e4-9bcb-7f13a01913db",
   "metadata": {},
   "outputs": [
    {
     "name": "stdout",
     "output_type": "stream",
     "text": [
      "Best probability threshold: 0.7\n",
      "    Fold     Patient  Threshold  PiW Dice  PiW Recall  PiW Precision  \\\n",
      "6      0  Patient001        0.7  0.828347    0.762817       0.906195   \n",
      "16     0  Patient002        0.7  0.946556    0.919496       0.975256   \n",
      "26     0  Patient003        0.7  0.941316    0.960817       0.922590   \n",
      "36     0  Patient004        0.7  0.904787    0.942430       0.870034   \n",
      "46     0  Patient005        0.7  0.930130    0.916328       0.944354   \n",
      "56     0  Patient006        0.7  0.931996    0.932208       0.931783   \n",
      "66     0  Patient007        0.7  0.915319    0.880296       0.953244   \n",
      "76     0  Patient008        0.7  0.931472    0.905806       0.958635   \n",
      "86     0  Patient009        0.7  0.958855    0.956526       0.961195   \n",
      "96     0  Patient010        0.7  0.836810    0.951776       0.746625   \n",
      "\n",
      "      PiW F1  GT volume (ml)  True Positive  Detection volume (ml)  ...  \\\n",
      "6   0.828347          5.1951           True                 4.3732  ...   \n",
      "16  0.946556        112.9402           True               106.4828  ...   \n",
      "26  0.941316         21.7465           True                22.6476  ...   \n",
      "36  0.904787          5.1935           True                 5.6257  ...   \n",
      "46  0.930130         15.7995           True                15.3306  ...   \n",
      "56  0.931996         68.0174           True                68.0484  ...   \n",
      "66  0.915319        108.1583           True                99.8814  ...   \n",
      "76  0.931472        104.6939           True                98.9243  ...   \n",
      "86  0.958855         48.7404           True                48.5037  ...   \n",
      "96  0.836810          7.9456           True                10.1289  ...   \n",
      "\n",
      "     OW Dice  OW Dice (std)  OW Recall  OW Recall (std)  OW Precision  \\\n",
      "6   0.828347       0.000000   0.762817         0.000000      0.906195   \n",
      "16  0.946556       0.000000   0.919496         0.000000      0.975256   \n",
      "26  0.941575       0.000000   0.961359         0.000000      0.922590   \n",
      "36  0.904787       0.000000   0.942430         0.000000      0.870034   \n",
      "46  0.914518       0.025267   0.891635         0.040707      0.939268   \n",
      "56  0.931954       0.000000   0.932701         0.000000      0.931207   \n",
      "66  0.915319       0.000000   0.880296         0.000000      0.953244   \n",
      "76  0.931472       0.000000   0.905806         0.000000      0.958635   \n",
      "86  0.958855       0.000000   0.956526         0.000000      0.961195   \n",
      "96  0.791820       0.117835   0.966581         0.027225      0.695834   \n",
      "\n",
      "    OW Precision (std)     OW F1  OW F1 (std)  #GT  #Det  \n",
      "6             0.000000  0.828347     0.000000    1     1  \n",
      "16            0.000000  0.946556     0.000000    1     1  \n",
      "26            0.000000  0.941575     0.000000    1     1  \n",
      "36            0.000000  0.904787     0.000000    1     1  \n",
      "46            0.008079  0.914518     0.025267    2     2  \n",
      "56            0.000000  0.931954     0.000000    3     1  \n",
      "66            0.000000  0.915319     0.000000    1     1  \n",
      "76            0.000000  0.931472     0.000000    1     1  \n",
      "86            0.000000  0.958855     0.000000    1     1  \n",
      "96            0.185940  0.791820     0.117835    2     3  \n",
      "\n",
      "[10 rows x 23 columns]\n"
     ]
    }
   ],
   "source": [
    "# Inspecting the results for the tumor class (per patient)\n",
    "import pandas as pd\n",
    "import numpy as np\n",
    "\n",
    "# Importing the file containing all computed metrics during the validation\n",
    "all_metrics_file = os.path.join(test_dir, \"Test1\", 'Results', 'Validation', 'tumor_dice_scores.csv')\n",
    "all_metrics_df = pd.read_csv(all_metrics_file)\n",
    "\n",
    "# Importing the file containing the results of the analysis determining the best probability threshold\n",
    "study_file = os.path.join(test_dir, \"Test1\", 'Results', 'Validation', 'tumor_optimal_dice_study.csv')\n",
    "optimal_study_df = pd.read_csv(study_file)\n",
    "optimums = optimal_study_df.iloc[-1]\n",
    "optimal_threshold = optimums['Dice threshold']\n",
    "print(\"Best probability threshold: {}\".format(optimal_threshold))\n",
    "\n",
    "# Retrieving the metrics for all patients, under the optimal probability cut-off value\n",
    "nb_thresholds = len(np.unique(all_metrics_df['Threshold'].values))\n",
    "total_thresholds = [np.round(x, 2) for x in list(np.unique(all_metrics_df['Threshold'].values))]\n",
    "optimal_thresold_index = total_thresholds.index(optimal_threshold)\n",
    "optimal_results_per_patient = all_metrics_df[optimal_thresold_index::nb_thresholds]\n",
    "print(optimal_results_per_patient)"
   ]
  },
  {
   "cell_type": "code",
   "execution_count": 25,
   "id": "bc543538-d280-48fa-9f9d-5113572ce8ec",
   "metadata": {},
   "outputs": [
    {
     "name": "stdout",
     "output_type": "stream",
     "text": [
      "Averaged patient-wise metrics over all patients:\n",
      " Patient-wise recall (Mean): 1.00 (0.00)\tPatient-wise precision (Mean): 1.00 (0.00)\tPatient-wise specificity (Mean): 1.00 (0.00)\tPatient-wise F1 (Mean): 1.00 (0.00)\tPatient-wise Accuracy (Mean): 1.00 (0.00)\tPatient-wise Balanced accuracy (Mean): 1.00 (0.00)\t\n",
      "Averaged pixel-wise metrics over all patients:\n",
      " \n",
      "\n",
      "PiW Dice (Mean): 0.91 (0.04)\tPiW Recall (Mean): 0.91 (0.06)\tPiW Precision (Mean): 0.92 (0.06)\tPiW F1 (Mean): 0.91 (0.04)\t\n",
      "Averaged pixel-wise metrics over all patients:\n",
      " \n",
      "\n",
      "OW Global Recall (Mean): 0.93 (0.20)\tOW Global Precision (Mean): 0.97 (0.10)\tOW Global F1 (Mean): 0.93 (0.16)\tOW Dice (Mean): 0.91 (0.05)\t\n"
     ]
    }
   ],
   "source": [
    "# Inspecting the averaged results for the tumor class\n",
    "import pandas as pd\n",
    "import numpy as np\n",
    "\n",
    "\n",
    "# Importing the file containing the averaged metrics\n",
    "results_file = os.path.join(test_dir, \"Test1\", 'Results', 'Validation', 'tumor_overall_metrics_average.csv')\n",
    "results_df = pd.read_csv(results_file)\n",
    "patientwise_results = \"\"\n",
    "for i in range(2, 14, 2):\n",
    "    patientwise_results += f'{results_df.columns[i]}: {results_df.values[0][i]:.2f} ({results_df.values[0][i+1]:.2f})\\t'\n",
    "print(\"Averaged patient-wise metrics over all patients:\\n {}\".format(patientwise_results))\n",
    "\n",
    "pixelwise_results = \"\\n\\n\"\n",
    "for i in range(14, 22, 2):\n",
    "    pixelwise_results += f'{results_df.columns[i]}: {results_df.values[0][i]:.2f} ({results_df.values[0][i+1]:.2f})\\t'\n",
    "print(\"Averaged pixel-wise metrics over all patients:\\n {}\".format(pixelwise_results))\n",
    "\n",
    "objectwise_results = \"\\n\\n\"\n",
    "for i in range(28, 36, 2):\n",
    "    objectwise_results += f'{results_df.columns[i]}: {results_df.values[0][i]:.2f} ({results_df.values[0][i+1]:.2f})\\t'\n",
    "print(\"Averaged pixel-wise metrics over all patients:\\n {}\".format(objectwise_results))"
   ]
  },
  {
   "cell_type": "code",
   "execution_count": null,
   "id": "fad5ae04-92eb-4f5c-a1d8-e30939fae3f2",
   "metadata": {},
   "outputs": [],
   "source": []
  }
 ],
 "metadata": {
  "kernelspec": {
   "display_name": "Python 3 (ipykernel)",
   "language": "python",
   "name": "python3"
  },
  "language_info": {
   "codemirror_mode": {
    "name": "ipython",
    "version": 3
   },
   "file_extension": ".py",
   "mimetype": "text/x-python",
   "name": "python",
   "nbconvert_exporter": "python",
   "pygments_lexer": "ipython3",
   "version": "3.10.12"
  }
 },
 "nbformat": 4,
 "nbformat_minor": 5
}
